{
 "cells": [
  {
   "cell_type": "markdown",
   "metadata": {},
   "source": [
    "# Определение стоимости автомобилей"
   ]
  },
  {
   "cell_type": "markdown",
   "metadata": {},
   "source": [
    "Сервис по продаже автомобилей с пробегом «Не бит, не крашен» разрабатывает приложение для привлечения новых клиентов. В нём можно быстро узнать рыночную стоимость своего автомобиля. В вашем распоряжении исторические данные: технические характеристики, комплектации и цены автомобилей. Вам нужно построить модель для определения стоимости. \n",
    "\n",
    "Заказчику важны:\n",
    "\n",
    "- качество предсказания;\n",
    "- скорость предсказания;\n",
    "- время обучения."
   ]
  },
  {
   "cell_type": "markdown",
   "metadata": {},
   "source": [
    "# Описание данных\n",
    "\n",
    "Данные находятся в файле /datasets/autos.csv. \n",
    "\n",
    "**Признаки** \n",
    "\n",
    "DateCrawled — дата скачивания анкеты из базы\n",
    "\n",
    "VehicleType — тип автомобильного кузова\n",
    "\n",
    "RegistrationYear — год регистрации автомобиля\n",
    "\n",
    "Gearbox — тип коробки передач\n",
    "\n",
    "Power — мощность (л. с.)\n",
    "\n",
    "Model — модель автомобиля\n",
    "\n",
    "Kilometer — пробег (км)\n",
    "\n",
    "RegistrationMonth — месяц регистрации автомобиля\n",
    "\n",
    "FuelType — тип топлива\n",
    "\n",
    "Brand — марка автомобиля\n",
    "\n",
    "Repaired — была машина в ремонте или нет\n",
    "\n",
    "DateCreated — дата создания анкеты\n",
    "\n",
    "NumberOfPictures — количество фотографий автомобиля\n",
    "\n",
    "PostalCode — почтовый индекс владельца анкеты (пользователя)\n",
    "\n",
    "LastSeen — дата последней активности пользователя\n",
    "\n",
    "**Целевой признак**\n",
    "\n",
    "Price — цена (евро)"
   ]
  },
  {
   "cell_type": "markdown",
   "metadata": {},
   "source": [
    "# Оглавление \n",
    "\n",
    "1. Загрузка и изучение данных:\n",
    "\n",
    "- Импортируем необходимые библиотеки, например, pandas и numpy.\n",
    "- Загружаем данные из файла autos.csv.\n",
    "- Ознакамливаемся с содержимым данных и их структурой.\n",
    "- Обрабатываем пропущенные значения и аномалии в столбцах, а также удаляем \n",
    "\n",
    "2. Подготовка данных:\n",
    "\n",
    "- Разделяем данные на признаки (X) и целевую переменную (y), где X содержит все столбцы, кроме \"Price\", а y содержит столбец \"Price\".\n",
    "- Преобразуем категориальные признаки в числовые с помощью метода кодирования, например, one-hot encoding или label encoding.\n",
    "- Разделяем данные на обучающую и тестовую выборки.\n",
    "\n",
    "3. Обучение разных моделей:\n",
    "\n",
    "- Используем различные модели машинного обучения для обучения, включая модель градиентного бустинга (например, LightGBM) и другие модели, такие как линейная регрессия, случайный лес и т.д.\n",
    "- Для каждой модели настраиваем разные гиперпараметры и оцениваем их производительность на обучающей выборке.\n",
    "- Измеряем время обучения и время предсказания для каждой модели.\n",
    "\n",
    "4. Анализ и выбор лучшей модели:\n",
    "\n",
    "- Сравниваем производительность моделей по метрике RMSE на тестовой выборке.\n",
    "- Оцениваем время обучения и время предсказания каждой модели.\n",
    "- Исходя из критериев заказчика (качество предсказания, время обучения, время предсказания), выбираем лучшую модель.\n",
    "\n",
    "5. Проверка качества выбранной модели:\n",
    "\n",
    "- Проверяем качество выбранной модели на тестовой выборке.\n",
    "- Измеряем значение метрики RMSE и сравниваем его с требуемым значением (меньше 2500).\n",
    "\n",
    "6. Отчет:\n",
    "\n",
    "- Подготавливаем отчет о проделанной работе, включая описание каждого шага и полученные результаты."
   ]
  },
  {
   "cell_type": "markdown",
   "metadata": {},
   "source": [
    "## Подготовка данных"
   ]
  },
  {
   "cell_type": "code",
   "execution_count": 1,
   "metadata": {},
   "outputs": [],
   "source": [
    "import pandas as pd\n",
    "import numpy as np\n",
    "import seaborn as sns\n",
    "import matplotlib.pyplot as plt\n",
    "import time \n",
    "from sklearn.model_selection import train_test_split\n",
    "from sklearn.tree import DecisionTreeRegressor\n",
    "from sklearn.ensemble import RandomForestRegressor\n",
    "from lightgbm import LGBMRegressor\n",
    "pd.options.mode.chained_assignment = None\n",
    "from sklearn.metrics import mean_squared_error\n",
    "from sklearn.model_selection import RandomizedSearchCV\n",
    "from sklearn.preprocessing import OrdinalEncoder\n",
    "import warnings\n",
    "warnings.filterwarnings(\"ignore\")"
   ]
  },
  {
   "cell_type": "code",
   "execution_count": 2,
   "metadata": {},
   "outputs": [],
   "source": [
    "df = pd.read_csv('/datasets/autos.csv')"
   ]
  },
  {
   "cell_type": "code",
   "execution_count": 3,
   "metadata": {},
   "outputs": [
    {
     "name": "stdout",
     "output_type": "stream",
     "text": [
      "<class 'pandas.core.frame.DataFrame'>\n",
      "RangeIndex: 354369 entries, 0 to 354368\n",
      "Data columns (total 16 columns):\n",
      " #   Column             Non-Null Count   Dtype \n",
      "---  ------             --------------   ----- \n",
      " 0   DateCrawled        354369 non-null  object\n",
      " 1   Price              354369 non-null  int64 \n",
      " 2   VehicleType        316879 non-null  object\n",
      " 3   RegistrationYear   354369 non-null  int64 \n",
      " 4   Gearbox            334536 non-null  object\n",
      " 5   Power              354369 non-null  int64 \n",
      " 6   Model              334664 non-null  object\n",
      " 7   Kilometer          354369 non-null  int64 \n",
      " 8   RegistrationMonth  354369 non-null  int64 \n",
      " 9   FuelType           321474 non-null  object\n",
      " 10  Brand              354369 non-null  object\n",
      " 11  Repaired           283215 non-null  object\n",
      " 12  DateCreated        354369 non-null  object\n",
      " 13  NumberOfPictures   354369 non-null  int64 \n",
      " 14  PostalCode         354369 non-null  int64 \n",
      " 15  LastSeen           354369 non-null  object\n",
      "dtypes: int64(7), object(9)\n",
      "memory usage: 43.3+ MB\n"
     ]
    }
   ],
   "source": [
    "df.info()"
   ]
  },
  {
   "cell_type": "code",
   "execution_count": 4,
   "metadata": {},
   "outputs": [
    {
     "name": "stdout",
     "output_type": "stream",
     "text": [
      "   Price VehicleType  RegistrationYear Gearbox  Power  Model  Kilometer  \\\n",
      "0    480         NaN              1993  manual      0   golf     150000   \n",
      "1  18300       coupe              2011  manual    190    NaN     125000   \n",
      "2   9800         suv              2004    auto    163  grand     125000   \n",
      "3   1500       small              2001  manual     75   golf     150000   \n",
      "4   3600       small              2008  manual     69  fabia      90000   \n",
      "\n",
      "   RegistrationMonth  FuelType       Brand Repaired  \n",
      "0                  0    petrol  volkswagen      NaN  \n",
      "1                  5  gasoline        audi      yes  \n",
      "2                  8  gasoline        jeep      NaN  \n",
      "3                  6    petrol  volkswagen       no  \n",
      "4                  7  gasoline       skoda       no  \n"
     ]
    }
   ],
   "source": [
    "# Удаляем колонки, не влияющие на стоимость автомобиля\n",
    "df = df.drop(columns=['DateCrawled', 'DateCreated', 'LastSeen', 'NumberOfPictures', 'PostalCode'])\n",
    "\n",
    "# Проверяем результат удаления\n",
    "print(df.head())"
   ]
  },
  {
   "cell_type": "code",
   "execution_count": 5,
   "metadata": {},
   "outputs": [
    {
     "name": "stdout",
     "output_type": "stream",
     "text": [
      "Колонки с пропущенными значениями:\n",
      "Index(['VehicleType', 'Gearbox', 'Model', 'FuelType', 'Repaired'], dtype='object')\n",
      "\n",
      "Количество пропущенных значений в каждой колонке:\n",
      "VehicleType    37490\n",
      "Gearbox        19833\n",
      "Model          19705\n",
      "FuelType       32895\n",
      "Repaired       71154\n",
      "dtype: int64\n"
     ]
    }
   ],
   "source": [
    "# Находим колонки с пропущенными значениями и их количество\n",
    "columns_with_missing_values = df.columns[df.isnull().any()]\n",
    "missing_values_count = df[columns_with_missing_values].isnull().sum()\n",
    "\n",
    "print(\"Колонки с пропущенными значениями:\")\n",
    "print(columns_with_missing_values)\n",
    "print(\"\\nКоличество пропущенных значений в каждой колонке:\")\n",
    "print(missing_values_count)"
   ]
  },
  {
   "cell_type": "code",
   "execution_count": 6,
   "metadata": {},
   "outputs": [
    {
     "name": "stdout",
     "output_type": "stream",
     "text": [
      "<class 'pandas.core.frame.DataFrame'>\n",
      "RangeIndex: 354369 entries, 0 to 354368\n",
      "Data columns (total 11 columns):\n",
      " #   Column             Non-Null Count   Dtype \n",
      "---  ------             --------------   ----- \n",
      " 0   Price              354369 non-null  int64 \n",
      " 1   VehicleType        354369 non-null  object\n",
      " 2   RegistrationYear   354369 non-null  int64 \n",
      " 3   Gearbox            354369 non-null  object\n",
      " 4   Power              354369 non-null  int64 \n",
      " 5   Model              354369 non-null  object\n",
      " 6   Kilometer          354369 non-null  int64 \n",
      " 7   RegistrationMonth  354369 non-null  int64 \n",
      " 8   FuelType           354369 non-null  object\n",
      " 9   Brand              354369 non-null  object\n",
      " 10  Repaired           354369 non-null  object\n",
      "dtypes: int64(5), object(6)\n",
      "memory usage: 29.7+ MB\n"
     ]
    }
   ],
   "source": [
    "df[columns_with_missing_values] = df[columns_with_missing_values].fillna('unknown')\n",
    "df.info()"
   ]
  },
  {
   "cell_type": "code",
   "execution_count": 7,
   "metadata": {},
   "outputs": [
    {
     "name": "stdout",
     "output_type": "stream",
     "text": [
      "               Price  RegistrationYear          Power      Kilometer  \\\n",
      "count  354369.000000     354369.000000  354369.000000  354369.000000   \n",
      "mean     4416.656776       2004.234448     110.094337  128211.172535   \n",
      "std      4514.158514         90.227958     189.850405   37905.341530   \n",
      "min         0.000000       1000.000000       0.000000    5000.000000   \n",
      "25%      1050.000000       1999.000000      69.000000  125000.000000   \n",
      "50%      2700.000000       2003.000000     105.000000  150000.000000   \n",
      "75%      6400.000000       2008.000000     143.000000  150000.000000   \n",
      "max     20000.000000       9999.000000   20000.000000  150000.000000   \n",
      "\n",
      "       RegistrationMonth  \n",
      "count      354369.000000  \n",
      "mean            5.714645  \n",
      "std             3.726421  \n",
      "min             0.000000  \n",
      "25%             3.000000  \n",
      "50%             6.000000  \n",
      "75%             9.000000  \n",
      "max            12.000000  \n"
     ]
    }
   ],
   "source": [
    "# Проверка числовых признаков\n",
    "numeric_columns = ['Price', 'RegistrationYear', 'Power', 'Kilometer', 'RegistrationMonth']\n",
    "\n",
    "# Отображение общей статистики числовых признаков\n",
    "print(df[numeric_columns].describe())"
   ]
  },
  {
   "cell_type": "code",
   "execution_count": 8,
   "metadata": {},
   "outputs": [
    {
     "data": {
      "image/png": "[encoded data removed]",
      "text/plain": [
       "<Figure size 864x576 with 6 Axes>"
      ]
     },
     "metadata": {
      "needs_background": "light"
     },
     "output_type": "display_data"
    }
   ],
   "source": [
    "# Построение гистограмм для визуализации распределения данных\n",
    "df[numeric_columns].hist(bins=20, figsize=(12, 8))\n",
    "plt.suptitle(\"Histograms of Numeric eatures\", fontsize=16)\n",
    "plt.show()"
   ]
  },
  {
   "cell_type": "markdown",
   "metadata": {},
   "source": [
    "- Price: средняя стоимость автомобиля составляет около 4416 евро, с минимальным значением 0 и максимальным 20000 евро. Стандартное отклонение велико, что может указывать на большой разброс цен.\n",
    "\n",
    "- RegistrationYear: средний год регистрации автомобиля около 2004 года, с минимальным значением 1000 и максимальным 9999. Есть некоторые аномальные значения, например, года регистрации автомобилей до 1900 года.\n",
    "\n",
    "- Power: средняя мощность автомобиля около 110 л.с., с минимальным значением 0 и максимальным 20000 л.с. Есть некоторые аномальные значения, например, мощность 0 л.с. и очень высокая мощность.\n",
    "\n",
    "- Kilometer: средний пробег автомобиля около 128211 км, со значением 150000 км у большинства автомобилей.\n",
    "RegistrationMonth: средний месяц регистрации автомобиля около 6 (июнь)."
   ]
  },
  {
   "cell_type": "code",
   "execution_count": 9,
   "metadata": {},
   "outputs": [],
   "source": [
    "# Удаление строк с аномальными значениями в столбце Price (цена не равна 0)\n",
    "df = df[df['Price'] > 100]"
   ]
  },
  {
   "cell_type": "code",
   "execution_count": 10,
   "metadata": {},
   "outputs": [],
   "source": [
    "# Удаление строк с аномальными значениями в столбце Power (мощность больше 0 и менее реалистичные значения)\n",
    "df = df[(df['Power'] > 30) & (df['Power'] <= 1000)]  # Предположим, что автомобиль с мощностью более 1000 л.с. считается аномалией."
   ]
  },
  {
   "cell_type": "code",
   "execution_count": 11,
   "metadata": {},
   "outputs": [],
   "source": [
    "# Удаление строк с аномальными значениями в столбце RegistrationYear (годы регистрации до 1900 и после 2016)\n",
    "df = df[(df['RegistrationYear'] >= 1900) & (df['RegistrationYear'] <= 2016)]"
   ]
  },
  {
   "cell_type": "code",
   "execution_count": 12,
   "metadata": {},
   "outputs": [
    {
     "name": "stdout",
     "output_type": "stream",
     "text": [
      "(293993, 11)\n"
     ]
    }
   ],
   "source": [
    "# Проверим размерность данных после удаления аномальных значений\n",
    "print(df.shape)"
   ]
  },
  {
   "cell_type": "code",
   "execution_count": 13,
   "metadata": {},
   "outputs": [
    {
     "data": {
      "text/plain": [
       "23038"
      ]
     },
     "execution_count": 13,
     "metadata": {},
     "output_type": "execute_result"
    }
   ],
   "source": [
    "# Найдем дубликаты\n",
    "df.duplicated().sum()"
   ]
  },
  {
   "cell_type": "code",
   "execution_count": 14,
   "metadata": {},
   "outputs": [
    {
     "name": "stdout",
     "output_type": "stream",
     "text": [
      "Количество дубликатов после удаления: 0\n"
     ]
    }
   ],
   "source": [
    "# удалим дубликаты\n",
    "df = df.drop_duplicates()\n",
    "print('Количество дубликатов после удаления:', df.duplicated().sum())"
   ]
  },
  {
   "cell_type": "markdown",
   "metadata": {},
   "source": [
    "Вывод:\n",
    "\n",
    "По итогам подготовки данных, было сделано следующее:\n",
    "\n",
    "- Удалены неинформативные столбцы;\n",
    "- Обнаружены и удалены дубликаты;\n",
    "- Обнаружены и заменены пропуски;\n",
    "- Обработаны пропуски и аномалии "
   ]
  },
  {
   "cell_type": "markdown",
   "metadata": {},
   "source": [
    "## Обучение моделей"
   ]
  },
  {
   "cell_type": "code",
   "execution_count": 15,
   "metadata": {},
   "outputs": [
    {
     "name": "stdout",
     "output_type": "stream",
     "text": [
      "(270955, 10)\n"
     ]
    },
    {
     "data": {
      "text/plain": [
       "(270955,)"
      ]
     },
     "execution_count": 15,
     "metadata": {},
     "output_type": "execute_result"
    }
   ],
   "source": [
    "# обозначим признаки и целевой признак\n",
    "features = df.drop('Price', axis=1)\n",
    "target = df['Price']\n",
    "\n",
    "print(features.shape)\n",
    "target.shape"
   ]
  },
  {
   "cell_type": "code",
   "execution_count": 16,
   "metadata": {},
   "outputs": [
    {
     "name": "stdout",
     "output_type": "stream",
     "text": [
      "Размеры обучающего набора: (162573, 10) (162573,)\n",
      "Размеры валидационного набора: (54191, 10) (54191,)\n",
      "Размеры тестового набора: (54191, 10) (54191,)\n"
     ]
    }
   ],
   "source": [
    "# сохраняем значение random_state\n",
    "random_state = 12345\n",
    "\n",
    "# разделяем выборку на обучающий, валидационный и тестовый наборы\n",
    "x_temp, x_test, y_temp, y_test = train_test_split(features, target, test_size=0.2, random_state=random_state)\n",
    "x_train, x_val, y_train, y_val = train_test_split(x_temp, y_temp, test_size=0.25, random_state=random_state)\n",
    "\n",
    "# выводим размеры наборов данных\n",
    "print(\"Размеры обучающего набора:\", x_train.shape, y_train.shape)\n",
    "print(\"Размеры валидационного набора:\", x_val.shape, y_val.shape)\n",
    "print(\"Размеры тестового набора:\", x_test.shape, y_test.shape)"
   ]
  },
  {
   "cell_type": "code",
   "execution_count": 17,
   "metadata": {},
   "outputs": [
    {
     "name": "stdout",
     "output_type": "stream",
     "text": [
      "Размеры обучающего набора после кодирования: (162573, 10)\n",
      "Размеры валидационного набора после кодирования: (54191, 10)\n",
      "Размеры тестового набора: (54191, 10) (54191,)\n"
     ]
    }
   ],
   "source": [
    "# Создаем список категориальных признаков для кодирования\n",
    "categorical_features = ['VehicleType', 'Gearbox', 'Model', 'FuelType', 'Brand', 'Repaired']\n",
    "\n",
    "# Создаем экземпляр OrdinalEncoder и проводим кодирование только категориальных признаков\n",
    "ordinal_encoder = OrdinalEncoder()\n",
    "x_train_encoded = x_train.copy()\n",
    "x_val_encoded = x_val.copy()\n",
    "x_test_encoded = x_test.copy()\n",
    "\n",
    "x_train_encoded[categorical_features] = ordinal_encoder.fit_transform(x_train[categorical_features])\n",
    "x_val_encoded[categorical_features] = ordinal_encoder.transform(x_val[categorical_features])\n",
    "x_test_encoded[categorical_features] = ordinal_encoder.transform(x_test[categorical_features])\n",
    "\n",
    "# Выводим размеры наборов после кодирования\n",
    "print(\"Размеры обучающего набора после кодирования:\", x_train_encoded.shape)\n",
    "print(\"Размеры валидационного набора после кодирования:\", x_val_encoded.shape)\n",
    "print(\"Размеры тестового набора:\", x_test_encoded.shape, y_test.shape)"
   ]
  },
  {
   "cell_type": "markdown",
   "metadata": {},
   "source": [
    "## Анализ моделей"
   ]
  },
  {
   "cell_type": "markdown",
   "metadata": {},
   "source": [
    "**Модель решающего дерева**"
   ]
  },
  {
   "cell_type": "code",
   "execution_count": 18,
   "metadata": {},
   "outputs": [],
   "source": [
    "# Создаем функцию для расчета RMSE\n",
    "def calculate_rmse(y_true, y_pred):\n",
    "    return np.sqrt(mean_squared_error(y_true, y_pred))"
   ]
  },
  {
   "cell_type": "code",
   "execution_count": 19,
   "metadata": {},
   "outputs": [],
   "source": [
    "# Определим параметры, которые будем искать\n",
    "param_distributions = {\n",
    "    'max_depth': [5, 10, 20],\n",
    "    'min_samples_split': [2, 5, 10]\n",
    "}"
   ]
  },
  {
   "cell_type": "code",
   "execution_count": 20,
   "metadata": {},
   "outputs": [],
   "source": [
    "# Создадим экземпляр модели решающего дерева\n",
    "tree_model = DecisionTreeRegressor(random_state=12345)\n",
    "\n",
    "# Создадим объект RandomizedSearchCV с параметром refit=False и указанием scoring для RMSE\n",
    "random_search_tree = RandomizedSearchCV(estimator=tree_model, param_distributions=param_distributions,\n",
    "                                        n_iter=4, cv=5, scoring='neg_root_mean_squared_error', random_state=12345, refit=False)"
   ]
  },
  {
   "cell_type": "code",
   "execution_count": 23,
   "metadata": {},
   "outputs": [],
   "source": [
    "random_search_tree.fit(x_train_encoded, y_train)\n",
    "best_params_tree = random_search_tree.best_params_\n",
    "best_tree_model = DecisionTreeRegressor(random_state=random_state, **best_params_tree)\n",
    "start = time.time()\n",
    "best_tree_model.fit(x_train_encoded, y_train)\n",
    "end = time.time()"
   ]
  },
  {
   "cell_type": "code",
   "execution_count": 24,
   "metadata": {},
   "outputs": [],
   "source": [
    "# Оценим производительность модели на валидационных данных\n",
    "val_predictions_tree = best_tree_model.predict(x_val_encoded)\n",
    "rmse_val_tree = calculate_rmse(y_val, val_predictions_tree)"
   ]
  },
  {
   "cell_type": "code",
   "execution_count": 25,
   "metadata": {},
   "outputs": [
    {
     "name": "stdout",
     "output_type": "stream",
     "text": [
      "Лучшие гиперпараметры для модели решающего дерева: {'min_samples_split': 10, 'max_depth': 20}\n",
      "RMSE на валидационных данных для модели решающего дерева: 1944.66\n",
      "Время обучения модели решающего дерева: 0.65 сек\n"
     ]
    }
   ],
   "source": [
    "print('Лучшие гиперпараметры для модели решающего дерева:', best_params_tree)\n",
    "print('RMSE на валидационных данных для модели решающего дерева: {:.2f}'.format(rmse_val_tree))\n",
    "print('Время обучения модели решающего дерева: {:.2f} сек'.format(end - start))"
   ]
  },
  {
   "cell_type": "code",
   "execution_count": 26,
   "metadata": {},
   "outputs": [
    {
     "name": "stdout",
     "output_type": "stream",
     "text": [
      "Время предсказания на валидационных данных: 0.02 сек\n"
     ]
    }
   ],
   "source": [
    "# Оценим время предсказания на валидационных данных\n",
    "start_pred = time.time()\n",
    "val_predictions_tree = best_tree_model.predict(x_val_encoded)\n",
    "end_pred = time.time()\n",
    "time_pred_tree = end_pred - start_pred\n",
    "\n",
    "print('Время предсказания на валидационных данных: {:.2f} сек'.format(time_pred_tree))"
   ]
  },
  {
   "cell_type": "markdown",
   "metadata": {},
   "source": [
    "**Модель случайного леса**"
   ]
  },
  {
   "cell_type": "code",
   "execution_count": 27,
   "metadata": {},
   "outputs": [],
   "source": [
    "# Определим параметры, которые будем искать\n",
    "param_distributions = {\n",
    "    'max_depth': [5, 10, 20],\n",
    "    'min_samples_split': [2, 5, 10]\n",
    "}"
   ]
  },
  {
   "cell_type": "code",
   "execution_count": 28,
   "metadata": {},
   "outputs": [],
   "source": [
    "# Создадим экземпляр модели случайного леса\n",
    "rf_model = RandomForestRegressor(random_state=12345)\n",
    "\n",
    "# Создадим объект RandomizedSearchCV \n",
    "random_search_rf = RandomizedSearchCV(estimator=rf_model, param_distributions=param_distributions,\n",
    "                                      n_iter=4, cv=5, scoring='neg_root_mean_squared_error', random_state=12345, refit=False)"
   ]
  },
  {
   "cell_type": "code",
   "execution_count": 31,
   "metadata": {},
   "outputs": [],
   "source": [
    "# Обучим модель на обучающих данных\n",
    "random_search_rf.fit(x_train_encoded, y_train)\n",
    "best_params_rf = random_search_rf.best_params_\n",
    "best_rf_model = RandomForestRegressor(random_state=random_state, **best_params_rf)\n",
    "\n",
    "# Замерим время обучения модели случайного леса на лучших гиперпараметрах\n",
    "start = time.time()\n",
    "best_rf_model.fit(x_train_encoded, y_train)\n",
    "end = time.time()"
   ]
  },
  {
   "cell_type": "code",
   "execution_count": 32,
   "metadata": {},
   "outputs": [
    {
     "name": "stdout",
     "output_type": "stream",
     "text": [
      "Лучшие гиперпараметры для модели случайного леса: {'min_samples_split': 10, 'max_depth': 20}\n",
      "RMSE на валидационных данных для модели случайного леса: 1617.04\n",
      "Время обучения модели случайного леса: 40.24 сек\n"
     ]
    }
   ],
   "source": [
    "# Оценим производительность модели на валидационных данных\n",
    "val_predictions_rf = best_rf_model.predict(x_val_encoded)\n",
    "rmse_val_rf = calculate_rmse(y_val, val_predictions_rf)\n",
    "\n",
    "print('Лучшие гиперпараметры для модели случайного леса:', best_params_rf)\n",
    "print('RMSE на валидационных данных для модели случайного леса: {:.2f}'.format(rmse_val_rf))\n",
    "print('Время обучения модели случайного леса: {:.2f} сек'.format(end - start))"
   ]
  },
  {
   "cell_type": "code",
   "execution_count": 33,
   "metadata": {},
   "outputs": [
    {
     "name": "stdout",
     "output_type": "stream",
     "text": [
      "Время предсказания на валидационных данных: 1.41 сек\n"
     ]
    }
   ],
   "source": [
    "# Оценим время предсказания на валидационных данных\n",
    "start_pred = time.time()\n",
    "val_predictions_rf = best_rf_model.predict(x_val_encoded)\n",
    "end_pred = time.time()\n",
    "time_pred_rf = end_pred - start_pred\n",
    "\n",
    "print('Время предсказания на валидационных данных: {:.2f} сек'.format(time_pred_rf))"
   ]
  },
  {
   "cell_type": "markdown",
   "metadata": {},
   "source": [
    "**Модель градиентного бустинга**"
   ]
  },
  {
   "cell_type": "code",
   "execution_count": 34,
   "metadata": {},
   "outputs": [],
   "source": [
    "from sklearn.ensemble import GradientBoostingRegressor\n",
    "\n",
    "# Определим параметры, которые будем искать\n",
    "param_distributions = {\n",
    "        'min_samples_split': [2, 5, 10],\n",
    "    'learning_rate': [0.01, 0.1, 0.2]\n",
    "}"
   ]
  },
  {
   "cell_type": "code",
   "execution_count": 35,
   "metadata": {},
   "outputs": [],
   "source": [
    "# Создадим экземпляр модели градиентного бустинга\n",
    "gb_model = GradientBoostingRegressor(random_state=12345)\n",
    "\n",
    "# Создадим объект RandomizedSearchCV \n",
    "random_search_gb = RandomizedSearchCV(estimator=gb_model, param_distributions=param_distributions,\n",
    "                                      n_iter=4, cv=5, scoring='neg_root_mean_squared_error', random_state=12345, refit=False)"
   ]
  },
  {
   "cell_type": "code",
   "execution_count": 36,
   "metadata": {},
   "outputs": [],
   "source": [
    "# Обучим модель на обучающих данных\n",
    "random_search_gb.fit(x_train_encoded, y_train)\n",
    "best_params_gb = random_search_gb.best_params_\n",
    "best_gb_model = GradientBoostingRegressor(random_state=random_state, **best_params_gb)\n",
    "\n",
    "# Замерим время обучения модели градиентного бустинга на лучших гиперпараметрах\n",
    "start = time.time()\n",
    "best_gb_model.fit(x_train_encoded, y_train)\n",
    "end = time.time()"
   ]
  },
  {
   "cell_type": "code",
   "execution_count": 37,
   "metadata": {},
   "outputs": [
    {
     "name": "stdout",
     "output_type": "stream",
     "text": [
      "Лучшие гиперпараметры для модели градиентного бустинга:  {'min_samples_split': 2, 'learning_rate': 0.2}\n",
      "RMSE на валидационных данных для модели градиентного бустинга: 1786.16\n",
      "Время обучения модели градиентного бустинга: 13.08 сек\n"
     ]
    }
   ],
   "source": [
    "# Оценим производительность модели на валидационных данных\n",
    "val_predictions_gb = best_gb_model.predict(x_val_encoded)\n",
    "rmse_val_gb = calculate_rmse(y_val, val_predictions_gb)\n",
    "print('Лучшие гиперпараметры для модели градиентного бустинга: ', best_params_gb)\n",
    "print('RMSE на валидационных данных для модели градиентного бустинга: {:.2f}'.format(rmse_val_gb))\n",
    "print('Время обучения модели градиентного бустинга: {:.2f} сек'.format(end - start))"
   ]
  },
  {
   "cell_type": "code",
   "execution_count": 38,
   "metadata": {},
   "outputs": [
    {
     "name": "stdout",
     "output_type": "stream",
     "text": [
      "Время предсказания на валидационных данных: 0.09 сек\n"
     ]
    }
   ],
   "source": [
    "# Оценим время предсказания на валидационных данных\n",
    "start_pred = time.time()\n",
    "val_predictions_gb = best_gb_model.predict(x_val_encoded)\n",
    "end_pred = time.time()\n",
    "time_pred_gb = end_pred - start_pred\n",
    "print('Время предсказания на валидационных данных: {:.2f} сек'.format(time_pred_gb))"
   ]
  },
  {
   "cell_type": "markdown",
   "metadata": {},
   "source": [
    "**Модель LightGBM**"
   ]
  },
  {
   "cell_type": "code",
   "execution_count": 39,
   "metadata": {},
   "outputs": [],
   "source": [
    "import lightgbm as lgb\n",
    "\n",
    "# Определим параметры, которые будем искать\n",
    "param_distributions = {\n",
    "    'subsample': [0.6, 0.7, 0.8],\n",
    "    'colsample_bytree': [0.6, 0.7, 0.8]\n",
    "}"
   ]
  },
  {
   "cell_type": "code",
   "execution_count": 40,
   "metadata": {},
   "outputs": [],
   "source": [
    "# Создадим экземпляр модели LightGBM\n",
    "lgb_model = lgb.LGBMRegressor(random_state=random_state)\n",
    "\n",
    "# Создадим объект RandomizedSearchCV \n",
    "random_search_lgb = RandomizedSearchCV(estimator=lgb_model, param_distributions=param_distributions,\n",
    "                                       n_iter=4, cv=5, scoring='neg_root_mean_squared_error', random_state=random_state, refit=False)"
   ]
  },
  {
   "cell_type": "code",
   "execution_count": 41,
   "metadata": {},
   "outputs": [],
   "source": [
    "# Обучим модель на обучающих данных\n",
    "random_search_lgb.fit(x_train_encoded, y_train)\n",
    "best_params_lgb = random_search_lgb.best_params_\n",
    "best_lgb_model = lgb.LGBMRegressor(random_state=random_state, **best_params_lgb)\n",
    "\n",
    "# Замерим время обучения модели LightGBM на лучших гиперпараметрах\n",
    "start = time.time()\n",
    "best_lgb_model.fit(x_train_encoded, y_train)\n",
    "end = time.time()"
   ]
  },
  {
   "cell_type": "code",
   "execution_count": 42,
   "metadata": {},
   "outputs": [
    {
     "name": "stdout",
     "output_type": "stream",
     "text": [
      "Лучшие гиперпараметры для модели LightGBM:  {'subsample': 0.8, 'colsample_bytree': 0.8}\n",
      "RMSE на валидационных данных для модели LightGBM: 1662.44\n",
      "Время обучения модели LightGBM: 19.21 сек\n"
     ]
    }
   ],
   "source": [
    "# Оценим производительность модели на валидационных данных\n",
    "val_predictions_lgb = best_lgb_model.predict(x_val_encoded)\n",
    "rmse_val_lgb = calculate_rmse(y_val, val_predictions_lgb)\n",
    "\n",
    "print('Лучшие гиперпараметры для модели LightGBM: ', best_params_lgb)\n",
    "print('RMSE на валидационных данных для модели LightGBM: {:.2f}'.format(rmse_val_lgb))\n",
    "print('Время обучения модели LightGBM: {:.2f} сек'.format(end - start))"
   ]
  },
  {
   "cell_type": "code",
   "execution_count": 43,
   "metadata": {},
   "outputs": [
    {
     "name": "stdout",
     "output_type": "stream",
     "text": [
      "Время предсказания на валидационных данных: 0.36 сек\n"
     ]
    }
   ],
   "source": [
    "# Оценим время предсказания на валидационных данных\n",
    "start_pred = time.time()\n",
    "val_predictions_lgb = best_lgb_model.predict(x_val_encoded)\n",
    "end_pred = time.time()\n",
    "time_pred_lgb = end_pred - start_pred\n",
    "\n",
    "print('Время предсказания на валидационных данных: {:.2f} сек'.format(time_pred_lgb))"
   ]
  },
  {
   "cell_type": "markdown",
   "metadata": {},
   "source": [
    "Теперь у нас есть информация о производительности различных моделей на валидационных данных. Вот сводная таблица с результатами:\n",
    "\n",
    "| Модель                   | Лучшие гиперпараметры                           | RMSE на валидации | Время обучения | Время предсказания |\n",
    "|--------------------------|-----------------------------------------------|------------------|----------------|--------------------|\n",
    "| Решающее дерево          | {'min_samples_split': 10, 'max_depth': 20}   | 1944.66          | 6.41 сек       | 0.02 сек           |\n",
    "| Случайный лес            | {'min_samples_split': 10, 'max_depth': 20}   | 1617.04          | 425.78 сек     | 1.20 сек           |\n",
    "| Градиентный бустинг      | {'min_samples_split': 2, 'learning_rate': 0.2}| 1786.16          | 176.37 сек     | 0.08 сек           |\n",
    "| LightGBM                 | {'subsample': 0.8, 'colsample_bytree': 0.8}   | 1662.44          | 90.36 сек      | 0.40 сек           |\n",
    "\n",
    "Выводы:\n",
    "\n",
    "1. RMSE (среднеквадратичная ошибка) - метрика, которую мы стараемся минимизировать. Чем меньше значение RMSE, тем лучше модель предсказывает целевую переменную. Исходя из RMSE на валидационных данных, лучшей моделью является случайный лес с RMSE 1617.04, однако LightGBM также представляет себя хорошо с RMSE 1662.44.\n",
    "\n",
    "2. Время обучения - здесь видно, что решающее дерево обучается самым быстрым способом (6.41 сек), в то время как случайный лес обучается значительно дольше (425.78 сек). Градиентный бустинг и LightGBM имеют промежуточные значения обучения (176.37 сек и 90.36 сек соответственно).\n",
    "\n",
    "3. Время предсказания - решающее дерево делает предсказания очень быстро (0.02 сек), в то время как случайный лес требует больше времени на предсказание (1.20 сек). Градиентный бустинг и LightGBM также имеют близкие значения времени предсказания (0.08 сек и 0.40 сек соответственно).\n",
    "\n",
    "Итак, у нас есть трейд-офф между точностью (RMSE) и временем обучения/предсказания. Если нам нужна более точная модель и вы готовы пожертвовать временем,то случайный лес может быть хорошим выбором с RMSE 1617.04. Однако, если время обучения и предсказания имеет большее значение, и мы хотим получить хорошую модель с неплохой точностью, то LightGBM является лучшим вариантом с RMSE 1662.44 и временем обучения/предсказания в пределах 90 секунд. Лучшая модель - LightGBM. "
   ]
  },
  {
   "cell_type": "markdown",
   "metadata": {},
   "source": [
    "**Тестирование лучшей модели**"
   ]
  },
  {
   "cell_type": "code",
   "execution_count": null,
   "metadata": {},
   "outputs": [],
   "source": [
    "# Применяем предварительно обученную модель к тестовой выборке\n",
    "test_predictions_lgb = best_lgb_model.predict(x_test_encoded)\n",
    "\n",
    "# Оценка качества на тестовой выборке с помощью метрики RMSE\n",
    "rmse_test_lgb = mean_squared_error(y_test, test_predictions_lgb, squared=False)\n",
    "print('RMSE на тестовой выборке для модели LightGBM: {:.2f}'.format(rmse_test_lgb))"
   ]
  }
 ],
 "metadata": {
  "ExecuteTimeLog": [
   {
    "duration": 2143,
    "start_time": "2023-06-30T03:03:40.695Z"
   },
   {
    "duration": 5,
    "start_time": "2023-06-30T03:55:39.183Z"
   },
   {
    "duration": 55,
    "start_time": "2023-06-30T10:30:01.027Z"
   },
   {
    "duration": 1642,
    "start_time": "2023-06-30T10:30:13.232Z"
   },
   {
    "duration": 2737,
    "start_time": "2023-06-30T10:30:14.877Z"
   },
   {
    "duration": 127,
    "start_time": "2023-06-30T10:39:17.527Z"
   },
   {
    "duration": 57,
    "start_time": "2023-06-30T10:41:44.719Z"
   },
   {
    "duration": 156,
    "start_time": "2023-06-30T10:43:39.897Z"
   },
   {
    "duration": 211,
    "start_time": "2023-06-30T10:46:30.220Z"
   },
   {
    "duration": 117,
    "start_time": "2023-06-30T10:48:19.437Z"
   },
   {
    "duration": 64,
    "start_time": "2023-06-30T10:49:14.839Z"
   },
   {
    "duration": 22,
    "start_time": "2023-06-30T10:53:12.775Z"
   },
   {
    "duration": 46,
    "start_time": "2023-06-30T10:53:14.476Z"
   },
   {
    "duration": 26,
    "start_time": "2023-06-30T10:53:15.315Z"
   },
   {
    "duration": 4,
    "start_time": "2023-06-30T10:53:15.963Z"
   },
   {
    "duration": 1379,
    "start_time": "2023-06-30T10:54:30.723Z"
   },
   {
    "duration": 809,
    "start_time": "2023-06-30T10:54:32.105Z"
   },
   {
    "duration": 144,
    "start_time": "2023-06-30T10:54:32.915Z"
   },
   {
    "duration": 69,
    "start_time": "2023-06-30T10:54:33.061Z"
   },
   {
    "duration": 227,
    "start_time": "2023-06-30T10:54:33.132Z"
   },
   {
    "duration": 192,
    "start_time": "2023-06-30T10:54:33.360Z"
   },
   {
    "duration": 121,
    "start_time": "2023-06-30T10:54:33.554Z"
   },
   {
    "duration": 0,
    "start_time": "2023-06-30T10:54:33.677Z"
   },
   {
    "duration": 0,
    "start_time": "2023-06-30T10:54:33.678Z"
   },
   {
    "duration": 0,
    "start_time": "2023-06-30T10:54:33.679Z"
   },
   {
    "duration": 0,
    "start_time": "2023-06-30T10:54:33.680Z"
   },
   {
    "duration": 0,
    "start_time": "2023-06-30T10:54:33.681Z"
   },
   {
    "duration": 1357,
    "start_time": "2023-06-30T10:55:21.495Z"
   },
   {
    "duration": 764,
    "start_time": "2023-06-30T10:55:22.854Z"
   },
   {
    "duration": 132,
    "start_time": "2023-06-30T10:55:23.620Z"
   },
   {
    "duration": 61,
    "start_time": "2023-06-30T10:55:23.754Z"
   },
   {
    "duration": 195,
    "start_time": "2023-06-30T10:55:23.818Z"
   },
   {
    "duration": 234,
    "start_time": "2023-06-30T10:55:24.015Z"
   },
   {
    "duration": 78,
    "start_time": "2023-06-30T10:55:24.252Z"
   },
   {
    "duration": 761,
    "start_time": "2023-06-30T10:55:24.332Z"
   },
   {
    "duration": 0,
    "start_time": "2023-06-30T10:55:25.095Z"
   },
   {
    "duration": 0,
    "start_time": "2023-06-30T10:55:25.096Z"
   },
   {
    "duration": 0,
    "start_time": "2023-06-30T10:55:25.097Z"
   },
   {
    "duration": 0,
    "start_time": "2023-06-30T10:55:25.098Z"
   },
   {
    "duration": 1418,
    "start_time": "2023-06-30T10:56:27.266Z"
   },
   {
    "duration": 738,
    "start_time": "2023-06-30T10:56:28.686Z"
   },
   {
    "duration": 121,
    "start_time": "2023-06-30T10:56:29.426Z"
   },
   {
    "duration": 49,
    "start_time": "2023-06-30T10:56:29.548Z"
   },
   {
    "duration": 151,
    "start_time": "2023-06-30T10:56:29.599Z"
   },
   {
    "duration": 193,
    "start_time": "2023-06-30T10:56:29.752Z"
   },
   {
    "duration": 71,
    "start_time": "2023-06-30T10:56:29.947Z"
   },
   {
    "duration": 646,
    "start_time": "2023-06-30T10:56:30.019Z"
   },
   {
    "duration": 30,
    "start_time": "2023-06-30T10:56:30.668Z"
   },
   {
    "duration": 29,
    "start_time": "2023-06-30T10:56:30.700Z"
   },
   {
    "duration": 38,
    "start_time": "2023-06-30T10:56:30.731Z"
   },
   {
    "duration": 10,
    "start_time": "2023-06-30T10:56:30.771Z"
   },
   {
    "duration": 753,
    "start_time": "2023-06-30T11:55:11.488Z"
   },
   {
    "duration": 726,
    "start_time": "2023-06-30T11:57:51.149Z"
   },
   {
    "duration": 123,
    "start_time": "2023-06-30T12:02:48.991Z"
   },
   {
    "duration": 1569,
    "start_time": "2023-06-30T12:03:33.663Z"
   },
   {
    "duration": 806,
    "start_time": "2023-06-30T12:03:35.233Z"
   },
   {
    "duration": 150,
    "start_time": "2023-06-30T12:03:36.041Z"
   },
   {
    "duration": 44,
    "start_time": "2023-06-30T12:03:36.193Z"
   },
   {
    "duration": 172,
    "start_time": "2023-06-30T12:03:36.238Z"
   },
   {
    "duration": 196,
    "start_time": "2023-06-30T12:03:36.412Z"
   },
   {
    "duration": 68,
    "start_time": "2023-06-30T12:03:36.610Z"
   },
   {
    "duration": 674,
    "start_time": "2023-06-30T12:03:36.679Z"
   },
   {
    "duration": 37,
    "start_time": "2023-06-30T12:03:37.354Z"
   },
   {
    "duration": 26,
    "start_time": "2023-06-30T12:03:37.394Z"
   },
   {
    "duration": 21,
    "start_time": "2023-06-30T12:03:37.422Z"
   },
   {
    "duration": 24,
    "start_time": "2023-06-30T12:03:37.444Z"
   },
   {
    "duration": 794,
    "start_time": "2023-06-30T12:03:37.470Z"
   },
   {
    "duration": 122,
    "start_time": "2023-06-30T12:03:38.266Z"
   },
   {
    "duration": 75,
    "start_time": "2023-06-30T12:03:57.582Z"
   },
   {
    "duration": 5,
    "start_time": "2023-06-30T12:15:25.810Z"
   },
   {
    "duration": 10,
    "start_time": "2023-06-30T12:15:29.063Z"
   },
   {
    "duration": 34498,
    "start_time": "2023-06-30T12:20:50.440Z"
   },
   {
    "duration": 9,
    "start_time": "2023-06-30T12:22:18.236Z"
   },
   {
    "duration": 9,
    "start_time": "2023-06-30T12:22:22.957Z"
   },
   {
    "duration": 1435,
    "start_time": "2023-06-30T12:22:45.446Z"
   },
   {
    "duration": 769,
    "start_time": "2023-06-30T12:22:46.883Z"
   },
   {
    "duration": 132,
    "start_time": "2023-06-30T12:22:47.654Z"
   },
   {
    "duration": 47,
    "start_time": "2023-06-30T12:22:47.788Z"
   },
   {
    "duration": 165,
    "start_time": "2023-06-30T12:22:47.838Z"
   },
   {
    "duration": 187,
    "start_time": "2023-06-30T12:22:48.005Z"
   },
   {
    "duration": 74,
    "start_time": "2023-06-30T12:22:48.194Z"
   },
   {
    "duration": 634,
    "start_time": "2023-06-30T12:22:48.270Z"
   },
   {
    "duration": 31,
    "start_time": "2023-06-30T12:22:48.906Z"
   },
   {
    "duration": 42,
    "start_time": "2023-06-30T12:22:48.938Z"
   },
   {
    "duration": 21,
    "start_time": "2023-06-30T12:22:48.982Z"
   },
   {
    "duration": 3,
    "start_time": "2023-06-30T12:22:49.005Z"
   },
   {
    "duration": 672,
    "start_time": "2023-06-30T12:22:49.010Z"
   },
   {
    "duration": 82,
    "start_time": "2023-06-30T12:22:49.686Z"
   },
   {
    "duration": 3,
    "start_time": "2023-06-30T12:22:49.770Z"
   },
   {
    "duration": 33740,
    "start_time": "2023-06-30T12:22:49.775Z"
   },
   {
    "duration": 0,
    "start_time": "2023-06-30T12:23:23.517Z"
   },
   {
    "duration": 0,
    "start_time": "2023-06-30T12:23:23.518Z"
   },
   {
    "duration": 0,
    "start_time": "2023-06-30T12:23:23.519Z"
   },
   {
    "duration": 11,
    "start_time": "2023-06-30T12:24:18.404Z"
   },
   {
    "duration": 1351,
    "start_time": "2023-06-30T12:26:16.717Z"
   },
   {
    "duration": 779,
    "start_time": "2023-06-30T12:26:18.070Z"
   },
   {
    "duration": 135,
    "start_time": "2023-06-30T12:26:18.851Z"
   },
   {
    "duration": 51,
    "start_time": "2023-06-30T12:26:18.988Z"
   },
   {
    "duration": 173,
    "start_time": "2023-06-30T12:26:19.041Z"
   },
   {
    "duration": 198,
    "start_time": "2023-06-30T12:26:19.215Z"
   },
   {
    "duration": 85,
    "start_time": "2023-06-30T12:26:19.415Z"
   },
   {
    "duration": 649,
    "start_time": "2023-06-30T12:26:19.502Z"
   },
   {
    "duration": 40,
    "start_time": "2023-06-30T12:26:20.154Z"
   },
   {
    "duration": 32,
    "start_time": "2023-06-30T12:26:20.196Z"
   },
   {
    "duration": 39,
    "start_time": "2023-06-30T12:26:20.229Z"
   },
   {
    "duration": 3,
    "start_time": "2023-06-30T12:26:20.270Z"
   },
   {
    "duration": 705,
    "start_time": "2023-06-30T12:26:20.274Z"
   },
   {
    "duration": 76,
    "start_time": "2023-06-30T12:26:20.981Z"
   },
   {
    "duration": 9,
    "start_time": "2023-06-30T12:26:21.059Z"
   },
   {
    "duration": 34526,
    "start_time": "2023-06-30T12:26:21.071Z"
   },
   {
    "duration": 0,
    "start_time": "2023-06-30T12:26:55.599Z"
   },
   {
    "duration": 0,
    "start_time": "2023-06-30T12:26:55.600Z"
   },
   {
    "duration": 0,
    "start_time": "2023-06-30T12:26:55.601Z"
   },
   {
    "duration": 1477,
    "start_time": "2023-06-30T12:53:21.077Z"
   },
   {
    "duration": 797,
    "start_time": "2023-06-30T12:53:22.556Z"
   },
   {
    "duration": 126,
    "start_time": "2023-06-30T12:53:23.355Z"
   },
   {
    "duration": 39,
    "start_time": "2023-06-30T12:53:23.483Z"
   },
   {
    "duration": 165,
    "start_time": "2023-06-30T12:53:23.524Z"
   },
   {
    "duration": 190,
    "start_time": "2023-06-30T12:53:23.691Z"
   },
   {
    "duration": 85,
    "start_time": "2023-06-30T12:53:23.883Z"
   },
   {
    "duration": 743,
    "start_time": "2023-06-30T12:53:23.970Z"
   },
   {
    "duration": 28,
    "start_time": "2023-06-30T12:53:24.714Z"
   },
   {
    "duration": 35,
    "start_time": "2023-06-30T12:53:24.744Z"
   },
   {
    "duration": 21,
    "start_time": "2023-06-30T12:53:24.781Z"
   },
   {
    "duration": 3,
    "start_time": "2023-06-30T12:53:24.804Z"
   },
   {
    "duration": 721,
    "start_time": "2023-06-30T12:53:24.809Z"
   },
   {
    "duration": 461,
    "start_time": "2023-06-30T12:53:25.533Z"
   },
   {
    "duration": 4,
    "start_time": "2023-06-30T12:53:25.996Z"
   },
   {
    "duration": 1599,
    "start_time": "2023-06-30T15:21:16.751Z"
   },
   {
    "duration": 2840,
    "start_time": "2023-06-30T15:21:18.352Z"
   },
   {
    "duration": 132,
    "start_time": "2023-06-30T15:21:21.194Z"
   },
   {
    "duration": 56,
    "start_time": "2023-06-30T15:21:21.328Z"
   },
   {
    "duration": 169,
    "start_time": "2023-06-30T15:21:21.387Z"
   },
   {
    "duration": 200,
    "start_time": "2023-06-30T15:21:21.557Z"
   },
   {
    "duration": 75,
    "start_time": "2023-06-30T15:21:21.758Z"
   },
   {
    "duration": 684,
    "start_time": "2023-06-30T15:21:21.835Z"
   },
   {
    "duration": 33,
    "start_time": "2023-06-30T15:21:22.521Z"
   },
   {
    "duration": 34,
    "start_time": "2023-06-30T15:21:22.556Z"
   },
   {
    "duration": 25,
    "start_time": "2023-06-30T15:21:22.592Z"
   },
   {
    "duration": 2,
    "start_time": "2023-06-30T15:21:22.619Z"
   },
   {
    "duration": 661,
    "start_time": "2023-06-30T15:21:22.623Z"
   },
   {
    "duration": 455,
    "start_time": "2023-06-30T15:21:23.289Z"
   },
   {
    "duration": 208,
    "start_time": "2023-06-30T15:21:23.746Z"
   },
   {
    "duration": 0,
    "start_time": "2023-06-30T15:21:23.957Z"
   },
   {
    "duration": 0,
    "start_time": "2023-06-30T15:21:23.958Z"
   },
   {
    "duration": 0,
    "start_time": "2023-06-30T15:21:23.959Z"
   },
   {
    "duration": 0,
    "start_time": "2023-06-30T15:21:23.959Z"
   },
   {
    "duration": 0,
    "start_time": "2023-06-30T15:21:23.960Z"
   },
   {
    "duration": 0,
    "start_time": "2023-06-30T15:21:23.961Z"
   },
   {
    "duration": 0,
    "start_time": "2023-06-30T15:21:23.961Z"
   },
   {
    "duration": 0,
    "start_time": "2023-06-30T15:21:23.962Z"
   },
   {
    "duration": 0,
    "start_time": "2023-06-30T15:21:23.969Z"
   },
   {
    "duration": 1508,
    "start_time": "2023-06-30T15:22:04.257Z"
   },
   {
    "duration": 848,
    "start_time": "2023-06-30T15:22:05.767Z"
   },
   {
    "duration": 136,
    "start_time": "2023-06-30T15:22:06.616Z"
   },
   {
    "duration": 56,
    "start_time": "2023-06-30T15:22:06.754Z"
   },
   {
    "duration": 195,
    "start_time": "2023-06-30T15:22:06.812Z"
   },
   {
    "duration": 225,
    "start_time": "2023-06-30T15:22:07.009Z"
   },
   {
    "duration": 81,
    "start_time": "2023-06-30T15:22:07.236Z"
   },
   {
    "duration": 704,
    "start_time": "2023-06-30T15:22:07.318Z"
   },
   {
    "duration": 32,
    "start_time": "2023-06-30T15:22:08.023Z"
   },
   {
    "duration": 39,
    "start_time": "2023-06-30T15:22:08.067Z"
   },
   {
    "duration": 20,
    "start_time": "2023-06-30T15:22:08.108Z"
   },
   {
    "duration": 3,
    "start_time": "2023-06-30T15:22:08.129Z"
   },
   {
    "duration": 651,
    "start_time": "2023-06-30T15:22:08.135Z"
   },
   {
    "duration": 491,
    "start_time": "2023-06-30T15:22:08.789Z"
   },
   {
    "duration": 4,
    "start_time": "2023-06-30T15:22:09.282Z"
   },
   {
    "duration": 1531,
    "start_time": "2023-06-30T15:53:48.835Z"
   },
   {
    "duration": 2941,
    "start_time": "2023-06-30T15:53:50.374Z"
   },
   {
    "duration": 144,
    "start_time": "2023-06-30T15:53:53.317Z"
   },
   {
    "duration": 55,
    "start_time": "2023-06-30T15:53:53.463Z"
   },
   {
    "duration": 176,
    "start_time": "2023-06-30T15:53:53.520Z"
   },
   {
    "duration": 200,
    "start_time": "2023-06-30T15:53:53.698Z"
   },
   {
    "duration": 87,
    "start_time": "2023-06-30T15:53:53.900Z"
   },
   {
    "duration": 733,
    "start_time": "2023-06-30T15:53:53.989Z"
   },
   {
    "duration": 31,
    "start_time": "2023-06-30T15:53:54.723Z"
   },
   {
    "duration": 43,
    "start_time": "2023-06-30T15:53:54.756Z"
   },
   {
    "duration": 22,
    "start_time": "2023-06-30T15:53:54.800Z"
   },
   {
    "duration": 3,
    "start_time": "2023-06-30T15:53:54.824Z"
   },
   {
    "duration": 815,
    "start_time": "2023-06-30T15:53:54.828Z"
   },
   {
    "duration": 534,
    "start_time": "2023-06-30T15:53:55.645Z"
   },
   {
    "duration": 4,
    "start_time": "2023-06-30T15:53:56.181Z"
   },
   {
    "duration": 1825,
    "start_time": "2023-07-01T12:18:54.095Z"
   },
   {
    "duration": 3068,
    "start_time": "2023-07-01T12:18:55.922Z"
   },
   {
    "duration": 159,
    "start_time": "2023-07-01T12:18:58.992Z"
   },
   {
    "duration": 568,
    "start_time": "2023-07-01T12:18:59.152Z"
   },
   {
    "duration": 71,
    "start_time": "2023-07-01T12:18:59.722Z"
   },
   {
    "duration": 198,
    "start_time": "2023-07-01T12:18:59.795Z"
   },
   {
    "duration": 240,
    "start_time": "2023-07-01T12:18:59.994Z"
   },
   {
    "duration": 94,
    "start_time": "2023-07-01T12:19:00.236Z"
   },
   {
    "duration": 843,
    "start_time": "2023-07-01T12:19:00.332Z"
   },
   {
    "duration": 35,
    "start_time": "2023-07-01T12:19:01.177Z"
   },
   {
    "duration": 59,
    "start_time": "2023-07-01T12:19:01.214Z"
   },
   {
    "duration": 23,
    "start_time": "2023-07-01T12:19:01.275Z"
   },
   {
    "duration": 12,
    "start_time": "2023-07-01T12:19:01.300Z"
   },
   {
    "duration": 23,
    "start_time": "2023-07-01T12:19:01.315Z"
   },
   {
    "duration": 153,
    "start_time": "2023-07-01T12:19:01.340Z"
   },
   {
    "duration": 0,
    "start_time": "2023-07-01T12:19:01.496Z"
   },
   {
    "duration": 0,
    "start_time": "2023-07-01T12:19:01.498Z"
   },
   {
    "duration": 0,
    "start_time": "2023-07-01T12:19:01.499Z"
   },
   {
    "duration": 0,
    "start_time": "2023-07-01T12:19:01.501Z"
   },
   {
    "duration": 0,
    "start_time": "2023-07-01T12:19:01.502Z"
   },
   {
    "duration": 0,
    "start_time": "2023-07-01T12:19:01.504Z"
   },
   {
    "duration": 0,
    "start_time": "2023-07-01T12:19:01.505Z"
   },
   {
    "duration": 0,
    "start_time": "2023-07-01T12:19:01.507Z"
   },
   {
    "duration": 2350,
    "start_time": "2023-07-01T12:20:16.872Z"
   },
   {
    "duration": 907,
    "start_time": "2023-07-01T12:20:19.224Z"
   },
   {
    "duration": 166,
    "start_time": "2023-07-01T12:20:20.132Z"
   },
   {
    "duration": 541,
    "start_time": "2023-07-01T12:20:20.301Z"
   },
   {
    "duration": 1083,
    "start_time": "2023-07-01T12:20:20.846Z"
   },
   {
    "duration": 58,
    "start_time": "2023-07-01T12:20:21.930Z"
   },
   {
    "duration": 194,
    "start_time": "2023-07-01T12:20:21.990Z"
   },
   {
    "duration": 239,
    "start_time": "2023-07-01T12:20:22.187Z"
   },
   {
    "duration": 86,
    "start_time": "2023-07-01T12:20:22.427Z"
   },
   {
    "duration": 797,
    "start_time": "2023-07-01T12:20:22.515Z"
   },
   {
    "duration": 57,
    "start_time": "2023-07-01T12:20:23.313Z"
   },
   {
    "duration": 24,
    "start_time": "2023-07-01T12:20:23.372Z"
   },
   {
    "duration": 22,
    "start_time": "2023-07-01T12:20:23.398Z"
   },
   {
    "duration": 31,
    "start_time": "2023-07-01T12:20:23.422Z"
   },
   {
    "duration": 11,
    "start_time": "2023-07-01T12:20:23.457Z"
   },
   {
    "duration": 137,
    "start_time": "2023-07-01T12:20:23.470Z"
   },
   {
    "duration": 0,
    "start_time": "2023-07-01T12:20:23.609Z"
   },
   {
    "duration": 0,
    "start_time": "2023-07-01T12:20:23.610Z"
   },
   {
    "duration": 0,
    "start_time": "2023-07-01T12:20:23.611Z"
   },
   {
    "duration": 0,
    "start_time": "2023-07-01T12:20:23.612Z"
   },
   {
    "duration": 0,
    "start_time": "2023-07-01T12:20:23.613Z"
   },
   {
    "duration": 0,
    "start_time": "2023-07-01T12:20:23.615Z"
   },
   {
    "duration": 0,
    "start_time": "2023-07-01T12:20:23.616Z"
   },
   {
    "duration": 0,
    "start_time": "2023-07-01T12:20:23.617Z"
   },
   {
    "duration": 17,
    "start_time": "2023-07-01T12:27:04.754Z"
   },
   {
    "duration": 124,
    "start_time": "2023-07-01T12:34:45.204Z"
   },
   {
    "duration": 26,
    "start_time": "2023-07-01T13:23:05.402Z"
   },
   {
    "duration": 19,
    "start_time": "2023-07-01T13:23:18.288Z"
   },
   {
    "duration": 30,
    "start_time": "2023-07-01T13:29:34.150Z"
   },
   {
    "duration": 1680,
    "start_time": "2023-07-01T13:29:50.530Z"
   },
   {
    "duration": 1079,
    "start_time": "2023-07-01T13:29:52.212Z"
   },
   {
    "duration": 190,
    "start_time": "2023-07-01T13:29:53.293Z"
   },
   {
    "duration": 601,
    "start_time": "2023-07-01T13:29:53.487Z"
   },
   {
    "duration": 1223,
    "start_time": "2023-07-01T13:29:54.090Z"
   },
   {
    "duration": 75,
    "start_time": "2023-07-01T13:29:55.315Z"
   },
   {
    "duration": 224,
    "start_time": "2023-07-01T13:29:55.392Z"
   },
   {
    "duration": 259,
    "start_time": "2023-07-01T13:29:55.618Z"
   },
   {
    "duration": 85,
    "start_time": "2023-07-01T13:29:55.880Z"
   },
   {
    "duration": 869,
    "start_time": "2023-07-01T13:29:55.974Z"
   },
   {
    "duration": 41,
    "start_time": "2023-07-01T13:29:56.845Z"
   },
   {
    "duration": 36,
    "start_time": "2023-07-01T13:29:56.888Z"
   },
   {
    "duration": 44,
    "start_time": "2023-07-01T13:29:56.925Z"
   },
   {
    "duration": 11,
    "start_time": "2023-07-01T13:29:56.974Z"
   },
   {
    "duration": 20,
    "start_time": "2023-07-01T13:29:56.987Z"
   },
   {
    "duration": 136,
    "start_time": "2023-07-01T13:29:57.009Z"
   },
   {
    "duration": 283,
    "start_time": "2023-07-01T13:29:57.147Z"
   },
   {
    "duration": 0,
    "start_time": "2023-07-01T13:29:57.433Z"
   },
   {
    "duration": 0,
    "start_time": "2023-07-01T13:29:57.434Z"
   },
   {
    "duration": 0,
    "start_time": "2023-07-01T13:29:57.436Z"
   },
   {
    "duration": 0,
    "start_time": "2023-07-01T13:29:57.437Z"
   },
   {
    "duration": 0,
    "start_time": "2023-07-01T13:29:57.439Z"
   },
   {
    "duration": 0,
    "start_time": "2023-07-01T13:29:57.441Z"
   },
   {
    "duration": 0,
    "start_time": "2023-07-01T13:29:57.456Z"
   },
   {
    "duration": 1674,
    "start_time": "2023-07-01T13:31:01.572Z"
   },
   {
    "duration": 943,
    "start_time": "2023-07-01T13:31:03.248Z"
   },
   {
    "duration": 171,
    "start_time": "2023-07-01T13:31:04.193Z"
   },
   {
    "duration": 536,
    "start_time": "2023-07-01T13:31:04.365Z"
   },
   {
    "duration": 1168,
    "start_time": "2023-07-01T13:31:04.903Z"
   },
   {
    "duration": 48,
    "start_time": "2023-07-01T13:31:06.073Z"
   },
   {
    "duration": 205,
    "start_time": "2023-07-01T13:31:06.122Z"
   },
   {
    "duration": 258,
    "start_time": "2023-07-01T13:31:06.329Z"
   },
   {
    "duration": 97,
    "start_time": "2023-07-01T13:31:06.589Z"
   },
   {
    "duration": 822,
    "start_time": "2023-07-01T13:31:06.688Z"
   },
   {
    "duration": 46,
    "start_time": "2023-07-01T13:31:07.512Z"
   },
   {
    "duration": 29,
    "start_time": "2023-07-01T13:31:07.563Z"
   },
   {
    "duration": 26,
    "start_time": "2023-07-01T13:31:07.595Z"
   },
   {
    "duration": 4,
    "start_time": "2023-07-01T13:31:07.625Z"
   },
   {
    "duration": 20,
    "start_time": "2023-07-01T13:31:07.657Z"
   },
   {
    "duration": 144,
    "start_time": "2023-07-01T13:31:07.679Z"
   },
   {
    "duration": 661,
    "start_time": "2023-07-01T13:31:07.825Z"
   },
   {
    "duration": 0,
    "start_time": "2023-07-01T13:31:08.488Z"
   },
   {
    "duration": 0,
    "start_time": "2023-07-01T13:31:08.489Z"
   },
   {
    "duration": 0,
    "start_time": "2023-07-01T13:31:08.490Z"
   },
   {
    "duration": 0,
    "start_time": "2023-07-01T13:31:08.491Z"
   },
   {
    "duration": 0,
    "start_time": "2023-07-01T13:31:08.492Z"
   },
   {
    "duration": 0,
    "start_time": "2023-07-01T13:31:08.493Z"
   },
   {
    "duration": 0,
    "start_time": "2023-07-01T13:31:08.495Z"
   },
   {
    "duration": 1906,
    "start_time": "2023-07-01T13:32:58.479Z"
   },
   {
    "duration": 1105,
    "start_time": "2023-07-01T13:33:00.387Z"
   },
   {
    "duration": 165,
    "start_time": "2023-07-01T13:33:01.494Z"
   },
   {
    "duration": 563,
    "start_time": "2023-07-01T13:33:01.665Z"
   },
   {
    "duration": 1174,
    "start_time": "2023-07-01T13:33:02.230Z"
   },
   {
    "duration": 69,
    "start_time": "2023-07-01T13:33:03.407Z"
   },
   {
    "duration": 193,
    "start_time": "2023-07-01T13:33:03.478Z"
   },
   {
    "duration": 247,
    "start_time": "2023-07-01T13:33:03.673Z"
   },
   {
    "duration": 89,
    "start_time": "2023-07-01T13:33:03.921Z"
   },
   {
    "duration": 805,
    "start_time": "2023-07-01T13:33:04.012Z"
   },
   {
    "duration": 51,
    "start_time": "2023-07-01T13:33:04.819Z"
   },
   {
    "duration": 25,
    "start_time": "2023-07-01T13:33:04.872Z"
   },
   {
    "duration": 24,
    "start_time": "2023-07-01T13:33:04.898Z"
   },
   {
    "duration": 3,
    "start_time": "2023-07-01T13:33:04.925Z"
   },
   {
    "duration": 42,
    "start_time": "2023-07-01T13:33:04.930Z"
   },
   {
    "duration": 141,
    "start_time": "2023-07-01T13:33:04.973Z"
   },
   {
    "duration": 679,
    "start_time": "2023-07-01T13:33:05.117Z"
   },
   {
    "duration": 134,
    "start_time": "2023-07-01T13:33:05.797Z"
   },
   {
    "duration": 0,
    "start_time": "2023-07-01T13:33:05.933Z"
   },
   {
    "duration": 0,
    "start_time": "2023-07-01T13:33:05.935Z"
   },
   {
    "duration": 0,
    "start_time": "2023-07-01T13:33:05.936Z"
   },
   {
    "duration": 0,
    "start_time": "2023-07-01T13:33:05.937Z"
   },
   {
    "duration": 0,
    "start_time": "2023-07-01T13:33:05.938Z"
   },
   {
    "duration": 0,
    "start_time": "2023-07-01T13:33:05.939Z"
   },
   {
    "duration": 2474,
    "start_time": "2023-07-01T13:44:55.270Z"
   },
   {
    "duration": 1922,
    "start_time": "2023-07-01T13:44:57.747Z"
   },
   {
    "duration": 142,
    "start_time": "2023-07-01T13:44:59.671Z"
   },
   {
    "duration": 520,
    "start_time": "2023-07-01T13:44:59.816Z"
   },
   {
    "duration": 1082,
    "start_time": "2023-07-01T13:45:00.338Z"
   },
   {
    "duration": 60,
    "start_time": "2023-07-01T13:45:01.422Z"
   },
   {
    "duration": 187,
    "start_time": "2023-07-01T13:45:01.484Z"
   },
   {
    "duration": 224,
    "start_time": "2023-07-01T13:45:01.673Z"
   },
   {
    "duration": 88,
    "start_time": "2023-07-01T13:45:01.899Z"
   },
   {
    "duration": 769,
    "start_time": "2023-07-01T13:45:01.988Z"
   },
   {
    "duration": 66,
    "start_time": "2023-07-01T13:45:02.759Z"
   },
   {
    "duration": 24,
    "start_time": "2023-07-01T13:45:02.827Z"
   },
   {
    "duration": 25,
    "start_time": "2023-07-01T13:45:02.852Z"
   },
   {
    "duration": 3,
    "start_time": "2023-07-01T13:45:02.879Z"
   },
   {
    "duration": 18,
    "start_time": "2023-07-01T13:45:02.884Z"
   },
   {
    "duration": 150,
    "start_time": "2023-07-01T13:45:02.904Z"
   },
   {
    "duration": 612,
    "start_time": "2023-07-01T13:45:03.056Z"
   },
   {
    "duration": 3,
    "start_time": "2023-07-01T13:56:04.597Z"
   },
   {
    "duration": 2,
    "start_time": "2023-07-01T13:56:20.129Z"
   },
   {
    "duration": 3,
    "start_time": "2023-07-01T13:56:41.754Z"
   },
   {
    "duration": 1723,
    "start_time": "2023-07-01T13:56:54.733Z"
   },
   {
    "duration": 15,
    "start_time": "2023-07-01T13:57:21.410Z"
   },
   {
    "duration": 4,
    "start_time": "2023-07-01T13:58:32.299Z"
   },
   {
    "duration": 12,
    "start_time": "2023-07-01T13:59:18.538Z"
   },
   {
    "duration": 1735,
    "start_time": "2023-07-01T14:00:43.371Z"
   },
   {
    "duration": 1725,
    "start_time": "2023-07-01T14:00:45.108Z"
   },
   {
    "duration": 140,
    "start_time": "2023-07-01T14:00:46.834Z"
   },
   {
    "duration": 501,
    "start_time": "2023-07-01T14:00:46.975Z"
   },
   {
    "duration": 1102,
    "start_time": "2023-07-01T14:00:47.479Z"
   },
   {
    "duration": 51,
    "start_time": "2023-07-01T14:00:48.583Z"
   },
   {
    "duration": 192,
    "start_time": "2023-07-01T14:00:48.636Z"
   },
   {
    "duration": 220,
    "start_time": "2023-07-01T14:00:48.830Z"
   },
   {
    "duration": 73,
    "start_time": "2023-07-01T14:00:49.054Z"
   },
   {
    "duration": 758,
    "start_time": "2023-07-01T14:00:49.129Z"
   },
   {
    "duration": 27,
    "start_time": "2023-07-01T14:00:49.889Z"
   },
   {
    "duration": 40,
    "start_time": "2023-07-01T14:00:49.918Z"
   },
   {
    "duration": 29,
    "start_time": "2023-07-01T14:00:49.960Z"
   },
   {
    "duration": 4,
    "start_time": "2023-07-01T14:00:49.993Z"
   },
   {
    "duration": 19,
    "start_time": "2023-07-01T14:00:49.998Z"
   },
   {
    "duration": 144,
    "start_time": "2023-07-01T14:00:50.019Z"
   },
   {
    "duration": 670,
    "start_time": "2023-07-01T14:00:50.165Z"
   },
   {
    "duration": 3,
    "start_time": "2023-07-01T14:00:50.837Z"
   },
   {
    "duration": 14,
    "start_time": "2023-07-01T14:00:50.841Z"
   },
   {
    "duration": 6,
    "start_time": "2023-07-01T14:00:50.857Z"
   },
   {
    "duration": 9417,
    "start_time": "2023-07-01T14:00:50.864Z"
   },
   {
    "duration": 23,
    "start_time": "2023-07-01T14:01:00.282Z"
   },
   {
    "duration": 29,
    "start_time": "2023-07-01T14:01:00.307Z"
   },
   {
    "duration": 47,
    "start_time": "2023-07-01T14:01:00.338Z"
   },
   {
    "duration": 3,
    "start_time": "2023-07-01T14:06:48.310Z"
   },
   {
    "duration": 4,
    "start_time": "2023-07-01T14:07:14.474Z"
   },
   {
    "duration": 636194,
    "start_time": "2023-07-01T14:07:28.030Z"
   },
   {
    "duration": 3,
    "start_time": "2023-07-01T14:18:55.450Z"
   },
   {
    "duration": 1481,
    "start_time": "2023-07-01T14:18:56.789Z"
   },
   {
    "duration": 1512,
    "start_time": "2023-07-01T14:19:06.489Z"
   },
   {
    "duration": 3,
    "start_time": "2023-07-01T14:23:41.208Z"
   },
   {
    "duration": 4,
    "start_time": "2023-07-01T14:24:05.910Z"
   },
   {
    "duration": 265371,
    "start_time": "2023-07-01T14:24:22.917Z"
   },
   {
    "duration": 3,
    "start_time": "2023-07-01T14:30:44.780Z"
   },
   {
    "duration": 87,
    "start_time": "2023-07-01T14:30:45.884Z"
   },
   {
    "duration": 87,
    "start_time": "2023-07-01T14:30:49.094Z"
   },
   {
    "duration": 3,
    "start_time": "2023-07-01T14:34:53.740Z"
   },
   {
    "duration": 3,
    "start_time": "2023-07-01T14:35:20.810Z"
   },
   {
    "duration": 6578,
    "start_time": "2023-07-01T14:35:32.786Z"
   },
   {
    "duration": 517,
    "start_time": "2023-07-01T14:35:57.155Z"
   },
   {
    "duration": 422,
    "start_time": "2023-07-01T14:36:18.139Z"
   },
   {
    "duration": 131,
    "start_time": "2023-07-01T14:49:14.466Z"
   },
   {
    "duration": 978,
    "start_time": "2023-07-01T14:54:08.276Z"
   },
   {
    "duration": 20,
    "start_time": "2023-07-01T14:54:11.854Z"
   },
   {
    "duration": 16,
    "start_time": "2023-07-01T14:57:32.643Z"
   },
   {
    "duration": 1588,
    "start_time": "2023-07-01T15:03:53.864Z"
   },
   {
    "duration": 2866,
    "start_time": "2023-07-01T15:03:55.454Z"
   },
   {
    "duration": 154,
    "start_time": "2023-07-01T15:03:58.322Z"
   },
   {
    "duration": 498,
    "start_time": "2023-07-01T15:03:58.477Z"
   },
   {
    "duration": 1058,
    "start_time": "2023-07-01T15:03:58.977Z"
   },
   {
    "duration": 60,
    "start_time": "2023-07-01T15:04:00.037Z"
   },
   {
    "duration": 190,
    "start_time": "2023-07-01T15:04:00.099Z"
   },
   {
    "duration": 236,
    "start_time": "2023-07-01T15:04:00.290Z"
   },
   {
    "duration": 83,
    "start_time": "2023-07-01T15:04:00.528Z"
   },
   {
    "duration": 788,
    "start_time": "2023-07-01T15:04:00.613Z"
   },
   {
    "duration": 28,
    "start_time": "2023-07-01T15:04:01.403Z"
   },
   {
    "duration": 38,
    "start_time": "2023-07-01T15:04:01.433Z"
   },
   {
    "duration": 46,
    "start_time": "2023-07-01T15:04:01.473Z"
   },
   {
    "duration": 3,
    "start_time": "2023-07-01T15:04:01.522Z"
   },
   {
    "duration": 55,
    "start_time": "2023-07-01T15:04:01.527Z"
   },
   {
    "duration": 212,
    "start_time": "2023-07-01T15:04:01.584Z"
   },
   {
    "duration": 597,
    "start_time": "2023-07-01T15:04:01.797Z"
   },
   {
    "duration": 4,
    "start_time": "2023-07-01T15:04:02.396Z"
   },
   {
    "duration": 8,
    "start_time": "2023-07-01T15:04:02.402Z"
   },
   {
    "duration": 7,
    "start_time": "2023-07-01T15:04:02.411Z"
   },
   {
    "duration": 9028,
    "start_time": "2023-07-01T15:04:02.419Z"
   },
   {
    "duration": 22,
    "start_time": "2023-07-01T15:04:11.449Z"
   },
   {
    "duration": 4,
    "start_time": "2023-07-01T15:04:11.473Z"
   },
   {
    "duration": 23,
    "start_time": "2023-07-01T15:04:11.478Z"
   },
   {
    "duration": 3,
    "start_time": "2023-07-01T15:04:11.502Z"
   },
   {
    "duration": 13,
    "start_time": "2023-07-01T15:04:11.507Z"
   },
   {
    "duration": 583687,
    "start_time": "2023-07-01T15:04:11.522Z"
   },
   {
    "duration": 3,
    "start_time": "2023-07-01T15:13:55.211Z"
   },
   {
    "duration": 1458,
    "start_time": "2023-07-01T15:13:55.216Z"
   },
   {
    "duration": 1520,
    "start_time": "2023-07-01T15:13:56.676Z"
   },
   {
    "duration": 3,
    "start_time": "2023-07-01T15:13:58.198Z"
   },
   {
    "duration": 8,
    "start_time": "2023-07-01T15:13:58.202Z"
   },
   {
    "duration": 267442,
    "start_time": "2023-07-01T15:13:58.212Z"
   },
   {
    "duration": 3,
    "start_time": "2023-07-01T15:18:25.656Z"
   },
   {
    "duration": 98,
    "start_time": "2023-07-01T15:18:25.661Z"
   },
   {
    "duration": 83,
    "start_time": "2023-07-01T15:18:25.760Z"
   },
   {
    "duration": 9,
    "start_time": "2023-07-01T15:18:25.845Z"
   },
   {
    "duration": 130,
    "start_time": "2023-07-01T15:18:25.856Z"
   },
   {
    "duration": 0,
    "start_time": "2023-07-01T15:18:25.988Z"
   },
   {
    "duration": 0,
    "start_time": "2023-07-01T15:18:25.989Z"
   },
   {
    "duration": 0,
    "start_time": "2023-07-01T15:18:25.990Z"
   },
   {
    "duration": 3,
    "start_time": "2023-07-01T15:20:34.738Z"
   },
   {
    "duration": 6915,
    "start_time": "2023-07-01T15:20:36.045Z"
   },
   {
    "duration": 570,
    "start_time": "2023-07-01T15:20:49.412Z"
   },
   {
    "duration": 704,
    "start_time": "2023-07-01T15:20:55.450Z"
   },
   {
    "duration": 22,
    "start_time": "2023-07-01T15:21:01.509Z"
   },
   {
    "duration": 25,
    "start_time": "2023-07-01T15:24:12.156Z"
   },
   {
    "duration": 25,
    "start_time": "2023-07-01T15:25:09.374Z"
   },
   {
    "duration": 26,
    "start_time": "2023-07-01T15:26:44.576Z"
   },
   {
    "duration": 135,
    "start_time": "2023-07-01T15:27:42.845Z"
   },
   {
    "duration": 1391,
    "start_time": "2023-07-01T15:28:46.903Z"
   },
   {
    "duration": 399,
    "start_time": "2023-07-01T15:29:47.677Z"
   },
   {
    "duration": 21,
    "start_time": "2023-07-01T15:31:31.535Z"
   },
   {
    "duration": 818,
    "start_time": "2023-07-01T15:33:31.155Z"
   },
   {
    "duration": 2546,
    "start_time": "2023-07-02T10:25:23.250Z"
   },
   {
    "duration": 1134,
    "start_time": "2023-07-02T10:25:25.800Z"
   },
   {
    "duration": 123,
    "start_time": "2023-07-02T10:25:26.935Z"
   },
   {
    "duration": 475,
    "start_time": "2023-07-02T10:25:27.060Z"
   },
   {
    "duration": 953,
    "start_time": "2023-07-02T10:25:27.536Z"
   },
   {
    "duration": 60,
    "start_time": "2023-07-02T10:25:57.561Z"
   },
   {
    "duration": 166,
    "start_time": "2023-07-02T10:26:15.005Z"
   },
   {
    "duration": 187,
    "start_time": "2023-07-02T10:26:15.446Z"
   },
   {
    "duration": 90,
    "start_time": "2023-07-02T10:26:54.622Z"
   },
   {
    "duration": 808,
    "start_time": "2023-07-02T10:26:55.164Z"
   },
   {
    "duration": 24,
    "start_time": "2023-07-02T10:32:12.947Z"
   },
   {
    "duration": 20,
    "start_time": "2023-07-02T10:32:13.459Z"
   },
   {
    "duration": 3,
    "start_time": "2023-07-02T10:32:13.833Z"
   },
   {
    "duration": 20,
    "start_time": "2023-07-02T10:32:19.704Z"
   },
   {
    "duration": 20,
    "start_time": "2023-07-02T10:32:20.438Z"
   },
   {
    "duration": 21,
    "start_time": "2023-07-02T10:32:20.600Z"
   },
   {
    "duration": 4,
    "start_time": "2023-07-02T10:32:20.768Z"
   },
   {
    "duration": 117,
    "start_time": "2023-07-02T10:32:41.402Z"
   },
   {
    "duration": 105,
    "start_time": "2023-07-02T10:42:56.335Z"
   },
   {
    "duration": 11,
    "start_time": "2023-07-02T10:42:59.756Z"
   },
   {
    "duration": 16,
    "start_time": "2023-07-02T10:43:03.611Z"
   },
   {
    "duration": 112,
    "start_time": "2023-07-02T10:43:04.009Z"
   },
   {
    "duration": 478,
    "start_time": "2023-07-02T10:43:04.710Z"
   },
   {
    "duration": 20,
    "start_time": "2023-07-02T10:43:12.129Z"
   },
   {
    "duration": 95,
    "start_time": "2023-07-02T14:41:18.813Z"
   },
   {
    "duration": 81,
    "start_time": "2023-07-02T14:43:03.484Z"
   },
   {
    "duration": 1408,
    "start_time": "2023-07-02T16:21:58.556Z"
   },
   {
    "duration": 901,
    "start_time": "2023-07-02T16:21:59.966Z"
   },
   {
    "duration": 142,
    "start_time": "2023-07-02T16:22:00.869Z"
   },
   {
    "duration": 79,
    "start_time": "2023-07-02T16:22:01.013Z"
   },
   {
    "duration": 240,
    "start_time": "2023-07-02T16:22:01.095Z"
   },
   {
    "duration": 225,
    "start_time": "2023-07-02T16:22:01.337Z"
   },
   {
    "duration": 81,
    "start_time": "2023-07-02T16:22:01.564Z"
   },
   {
    "duration": 873,
    "start_time": "2023-07-02T16:22:01.647Z"
   },
   {
    "duration": 34,
    "start_time": "2023-07-02T16:22:02.522Z"
   },
   {
    "duration": 45,
    "start_time": "2023-07-02T16:22:02.558Z"
   },
   {
    "duration": 40,
    "start_time": "2023-07-02T16:22:02.605Z"
   },
   {
    "duration": 3,
    "start_time": "2023-07-02T16:22:02.647Z"
   },
   {
    "duration": 203,
    "start_time": "2023-07-02T16:22:02.651Z"
   },
   {
    "duration": 291,
    "start_time": "2023-07-02T16:22:02.857Z"
   },
   {
    "duration": 102,
    "start_time": "2023-07-02T16:22:03.149Z"
   },
   {
    "duration": 129,
    "start_time": "2023-07-02T16:22:03.252Z"
   },
   {
    "duration": 877,
    "start_time": "2023-07-02T16:22:03.384Z"
   },
   {
    "duration": 2,
    "start_time": "2023-07-02T16:22:04.263Z"
   },
   {
    "duration": 26,
    "start_time": "2023-07-02T16:22:04.267Z"
   },
   {
    "duration": 11,
    "start_time": "2023-07-02T16:22:04.295Z"
   },
   {
    "duration": 6979,
    "start_time": "2023-07-02T16:22:04.307Z"
   },
   {
    "duration": 632,
    "start_time": "2023-07-02T16:22:11.292Z"
   },
   {
    "duration": 4,
    "start_time": "2023-07-02T16:22:11.926Z"
   },
   {
    "duration": 50,
    "start_time": "2023-07-02T16:22:11.931Z"
   },
   {
    "duration": 4,
    "start_time": "2023-07-02T16:22:11.983Z"
   },
   {
    "duration": 24,
    "start_time": "2023-07-02T16:22:11.988Z"
   },
   {
    "duration": 436749,
    "start_time": "2023-07-02T16:22:12.013Z"
   },
   {
    "duration": 35915,
    "start_time": "2023-07-02T16:29:28.763Z"
   },
   {
    "duration": 1198,
    "start_time": "2023-07-02T16:30:04.679Z"
   },
   {
    "duration": 1230,
    "start_time": "2023-07-02T16:30:05.879Z"
   },
   {
    "duration": 2,
    "start_time": "2023-07-02T16:30:07.111Z"
   },
   {
    "duration": 10,
    "start_time": "2023-07-02T16:30:07.115Z"
   },
   {
    "duration": 178316,
    "start_time": "2023-07-02T16:30:07.127Z"
   },
   {
    "duration": 10889,
    "start_time": "2023-07-02T16:33:05.445Z"
   },
   {
    "duration": 93,
    "start_time": "2023-07-02T16:33:16.336Z"
   },
   {
    "duration": 84,
    "start_time": "2023-07-02T16:33:16.431Z"
   },
   {
    "duration": 3,
    "start_time": "2023-07-02T16:33:16.516Z"
   },
   {
    "duration": 15,
    "start_time": "2023-07-02T16:33:16.520Z"
   },
   {
    "duration": 129,
    "start_time": "2023-07-02T16:33:16.536Z"
   },
   {
    "duration": 0,
    "start_time": "2023-07-02T16:33:16.667Z"
   },
   {
    "duration": 0,
    "start_time": "2023-07-02T16:33:16.668Z"
   },
   {
    "duration": 0,
    "start_time": "2023-07-02T16:33:16.669Z"
   },
   {
    "duration": 1292,
    "start_time": "2023-07-02T16:54:35.937Z"
   },
   {
    "duration": 769,
    "start_time": "2023-07-02T16:54:37.230Z"
   },
   {
    "duration": 125,
    "start_time": "2023-07-02T16:54:38.001Z"
   },
   {
    "duration": 60,
    "start_time": "2023-07-02T16:54:38.127Z"
   },
   {
    "duration": 149,
    "start_time": "2023-07-02T16:54:38.189Z"
   },
   {
    "duration": 352,
    "start_time": "2023-07-02T16:54:38.340Z"
   },
   {
    "duration": 64,
    "start_time": "2023-07-02T16:54:38.693Z"
   },
   {
    "duration": 664,
    "start_time": "2023-07-02T16:54:38.760Z"
   },
   {
    "duration": 29,
    "start_time": "2023-07-02T16:54:39.426Z"
   },
   {
    "duration": 40,
    "start_time": "2023-07-02T16:54:39.456Z"
   },
   {
    "duration": 22,
    "start_time": "2023-07-02T16:54:39.497Z"
   },
   {
    "duration": 40,
    "start_time": "2023-07-02T16:54:39.520Z"
   },
   {
    "duration": 125,
    "start_time": "2023-07-02T16:54:39.562Z"
   },
   {
    "duration": 244,
    "start_time": "2023-07-02T16:54:39.690Z"
   },
   {
    "duration": 99,
    "start_time": "2023-07-02T16:54:39.936Z"
   },
   {
    "duration": 117,
    "start_time": "2023-07-02T16:54:40.037Z"
   },
   {
    "duration": 708,
    "start_time": "2023-07-02T16:54:40.156Z"
   },
   {
    "duration": 9,
    "start_time": "2023-07-02T16:54:40.866Z"
   },
   {
    "duration": 6,
    "start_time": "2023-07-02T16:54:40.877Z"
   },
   {
    "duration": 5,
    "start_time": "2023-07-02T16:54:40.884Z"
   },
   {
    "duration": 6416,
    "start_time": "2023-07-02T16:54:40.890Z"
   },
   {
    "duration": 545,
    "start_time": "2023-07-02T16:54:47.307Z"
   },
   {
    "duration": 4,
    "start_time": "2023-07-02T16:54:47.854Z"
   },
   {
    "duration": 27,
    "start_time": "2023-07-02T16:54:47.860Z"
   },
   {
    "duration": 3,
    "start_time": "2023-07-02T16:54:47.888Z"
   },
   {
    "duration": 6,
    "start_time": "2023-07-02T16:54:47.893Z"
   },
   {
    "duration": 425797,
    "start_time": "2023-07-02T16:54:47.900Z"
   },
   {
    "duration": 35381,
    "start_time": "2023-07-02T17:01:53.699Z"
   },
   {
    "duration": 1196,
    "start_time": "2023-07-02T17:02:29.082Z"
   },
   {
    "duration": 1199,
    "start_time": "2023-07-02T17:02:30.279Z"
   },
   {
    "duration": 3,
    "start_time": "2023-07-02T17:02:31.480Z"
   },
   {
    "duration": 21,
    "start_time": "2023-07-02T17:02:31.484Z"
   },
   {
    "duration": 176387,
    "start_time": "2023-07-02T17:02:31.507Z"
   },
   {
    "duration": 10950,
    "start_time": "2023-07-02T17:05:27.896Z"
   },
   {
    "duration": 82,
    "start_time": "2023-07-02T17:05:38.847Z"
   },
   {
    "duration": 81,
    "start_time": "2023-07-02T17:05:38.931Z"
   },
   {
    "duration": 3,
    "start_time": "2023-07-02T17:05:39.013Z"
   },
   {
    "duration": 6,
    "start_time": "2023-07-02T17:05:39.017Z"
   },
   {
    "duration": 90367,
    "start_time": "2023-07-02T17:05:39.024Z"
   },
   {
    "duration": 3484,
    "start_time": "2023-07-02T17:07:09.392Z"
   },
   {
    "duration": 404,
    "start_time": "2023-07-02T17:07:12.879Z"
   },
   {
    "duration": 402,
    "start_time": "2023-07-02T17:07:13.284Z"
   },
   {
    "duration": 408,
    "start_time": "2023-07-02T17:07:13.688Z"
   },
   {
    "duration": 1936,
    "start_time": "2023-07-03T12:44:17.048Z"
   },
   {
    "duration": 1263,
    "start_time": "2023-07-03T12:44:18.986Z"
   },
   {
    "duration": 167,
    "start_time": "2023-07-03T12:44:20.251Z"
   },
   {
    "duration": 64,
    "start_time": "2023-07-03T12:44:20.420Z"
   },
   {
    "duration": 208,
    "start_time": "2023-07-03T12:44:20.486Z"
   },
   {
    "duration": 230,
    "start_time": "2023-07-03T12:44:20.695Z"
   },
   {
    "duration": 84,
    "start_time": "2023-07-03T12:44:20.927Z"
   },
   {
    "duration": 821,
    "start_time": "2023-07-03T12:44:21.013Z"
   },
   {
    "duration": 42,
    "start_time": "2023-07-03T12:44:21.836Z"
   },
   {
    "duration": 32,
    "start_time": "2023-07-03T12:44:21.880Z"
   },
   {
    "duration": 43,
    "start_time": "2023-07-03T12:44:21.914Z"
   },
   {
    "duration": 5,
    "start_time": "2023-07-03T12:44:21.963Z"
   },
   {
    "duration": 157,
    "start_time": "2023-07-03T12:44:21.970Z"
   },
   {
    "duration": 335,
    "start_time": "2023-07-03T12:44:22.131Z"
   },
   {
    "duration": 110,
    "start_time": "2023-07-03T12:44:22.469Z"
   },
   {
    "duration": 139,
    "start_time": "2023-07-03T12:44:22.582Z"
   },
   {
    "duration": 886,
    "start_time": "2023-07-03T12:44:22.723Z"
   },
   {
    "duration": 3,
    "start_time": "2023-07-03T12:44:23.611Z"
   },
   {
    "duration": 10,
    "start_time": "2023-07-03T12:44:23.616Z"
   },
   {
    "duration": 12,
    "start_time": "2023-07-03T12:44:23.627Z"
   },
   {
    "duration": 142,
    "start_time": "2023-07-03T12:44:23.641Z"
   },
   {
    "duration": 0,
    "start_time": "2023-07-03T12:44:23.784Z"
   },
   {
    "duration": 0,
    "start_time": "2023-07-03T12:44:23.786Z"
   },
   {
    "duration": 0,
    "start_time": "2023-07-03T12:44:23.788Z"
   },
   {
    "duration": 0,
    "start_time": "2023-07-03T12:44:23.789Z"
   },
   {
    "duration": 0,
    "start_time": "2023-07-03T12:44:23.790Z"
   },
   {
    "duration": 0,
    "start_time": "2023-07-03T12:44:23.791Z"
   },
   {
    "duration": 0,
    "start_time": "2023-07-03T12:44:23.793Z"
   },
   {
    "duration": 0,
    "start_time": "2023-07-03T12:44:23.794Z"
   },
   {
    "duration": 0,
    "start_time": "2023-07-03T12:44:23.795Z"
   },
   {
    "duration": 0,
    "start_time": "2023-07-03T12:44:23.797Z"
   },
   {
    "duration": 0,
    "start_time": "2023-07-03T12:44:23.798Z"
   },
   {
    "duration": 0,
    "start_time": "2023-07-03T12:44:23.799Z"
   },
   {
    "duration": 0,
    "start_time": "2023-07-03T12:44:23.800Z"
   },
   {
    "duration": 0,
    "start_time": "2023-07-03T12:44:23.802Z"
   },
   {
    "duration": 0,
    "start_time": "2023-07-03T12:44:23.803Z"
   },
   {
    "duration": 0,
    "start_time": "2023-07-03T12:44:23.805Z"
   },
   {
    "duration": 0,
    "start_time": "2023-07-03T12:44:23.806Z"
   },
   {
    "duration": 0,
    "start_time": "2023-07-03T12:44:23.808Z"
   },
   {
    "duration": 0,
    "start_time": "2023-07-03T12:44:23.809Z"
   },
   {
    "duration": 0,
    "start_time": "2023-07-03T12:44:23.854Z"
   },
   {
    "duration": 0,
    "start_time": "2023-07-03T12:44:23.859Z"
   },
   {
    "duration": 0,
    "start_time": "2023-07-03T12:44:23.862Z"
   },
   {
    "duration": 0,
    "start_time": "2023-07-03T12:44:23.864Z"
   },
   {
    "duration": 107,
    "start_time": "2023-07-03T12:55:00.601Z"
   },
   {
    "duration": 9044,
    "start_time": "2023-07-03T12:55:16.577Z"
   },
   {
    "duration": 27,
    "start_time": "2023-07-03T12:55:28.340Z"
   },
   {
    "duration": 4,
    "start_time": "2023-07-03T12:55:29.667Z"
   },
   {
    "duration": 29,
    "start_time": "2023-07-03T12:55:38.245Z"
   },
   {
    "duration": 3,
    "start_time": "2023-07-03T12:55:41.706Z"
   },
   {
    "duration": 3,
    "start_time": "2023-07-03T12:55:42.603Z"
   },
   {
    "duration": 9,
    "start_time": "2023-07-03T12:55:44.331Z"
   },
   {
    "duration": 10,
    "start_time": "2023-07-03T12:56:31.131Z"
   },
   {
    "duration": 546639,
    "start_time": "2023-07-03T13:05:38.222Z"
   },
   {
    "duration": 1500,
    "start_time": "2023-07-03T14:22:31.099Z"
   },
   {
    "duration": 1415,
    "start_time": "2023-07-03T14:22:38.349Z"
   },
   {
    "duration": 4,
    "start_time": "2023-07-03T14:22:43.506Z"
   },
   {
    "duration": 3,
    "start_time": "2023-07-03T14:22:44.469Z"
   },
   {
    "duration": 219265,
    "start_time": "2023-07-03T14:22:47.193Z"
   },
   {
    "duration": 85,
    "start_time": "2023-07-03T14:32:16.768Z"
   },
   {
    "duration": 96,
    "start_time": "2023-07-03T14:32:18.602Z"
   },
   {
    "duration": 3,
    "start_time": "2023-07-03T14:32:54.230Z"
   },
   {
    "duration": 4,
    "start_time": "2023-07-03T14:32:57.939Z"
   },
   {
    "duration": 1693344,
    "start_time": "2023-07-03T14:33:00.830Z"
   },
   {
    "duration": 398,
    "start_time": "2023-07-03T15:03:10.883Z"
   },
   {
    "duration": 442,
    "start_time": "2023-07-03T15:03:12.413Z"
   }
  ],
  "kernelspec": {
   "display_name": "Python 3 (ipykernel)",
   "language": "python",
   "name": "python3"
  },
  "language_info": {
   "codemirror_mode": {
    "name": "ipython",
    "version": 3
   },
   "file_extension": ".py",
   "mimetype": "text/x-python",
   "name": "python",
   "nbconvert_exporter": "python",
   "pygments_lexer": "ipython3",
   "version": "3.9.5"
  },
  "toc": {
   "base_numbering": 1,
   "nav_menu": {},
   "number_sections": true,
   "sideBar": true,
   "skip_h1_title": true,
   "title_cell": "Table of Contents",
   "title_sidebar": "Contents",
   "toc_cell": false,
   "toc_position": {},
   "toc_section_display": true,
   "toc_window_display": false
  }
 },
 "nbformat": 4,
 "nbformat_minor": 2
}
